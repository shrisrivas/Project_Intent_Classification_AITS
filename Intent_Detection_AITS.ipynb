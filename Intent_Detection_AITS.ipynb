{
 "cells": [
  {
   "cell_type": "markdown",
   "metadata": {},
   "source": [
    "# INTENT CLASSIFICATION\n",
    "\n",
    "Intent classification is the automated categorization of text data based on customer goals. In essence, an intent classifier automatically analyzes texts and categorizes them into intents such as Purchase, Downgrade, Unsubscribe, and Demo Request.\n",
    "\n",
    "For Example: if i enquiry about ticket availabilty from Airport Counter, it will be enquiry category."
   ]
  },
  {
   "cell_type": "markdown",
   "metadata": {},
   "source": [
    "# Import libraries"
   ]
  },
  {
   "cell_type": "code",
   "execution_count": 2,
   "metadata": {},
   "outputs": [],
   "source": [
    "import pandas as pd\n",
    "import numpy as np\n",
    "\n",
    "import tensorflow as tf\n",
    "from tensorflow.keras.preprocessing.text import Tokenizer\n",
    "from tensorflow.keras.preprocessing.sequence import pad_sequences\n",
    "from tensorflow.keras.models import Sequential\n",
    "from tensorflow.keras.layers import Embedding, LSTM, Dense\n",
    "from tensorflow.keras.metrics import Precision, Recall\n",
    "from tensorflow.keras import utils\n",
    "\n",
    "from sklearn.model_selection import train_test_split\n",
    "from sklearn.preprocessing import LabelEncoder\n",
    "from sklearn import metrics\n",
    "\n",
    "import matplotlib.pyplot as plt"
   ]
  },
  {
   "cell_type": "markdown",
   "metadata": {},
   "source": [
    "# Load data"
   ]
  },
  {
   "cell_type": "code",
   "execution_count": 40,
   "metadata": {},
   "outputs": [
    {
     "data": {
      "text/html": [
       "<div>\n",
       "<style scoped>\n",
       "    .dataframe tbody tr th:only-of-type {\n",
       "        vertical-align: middle;\n",
       "    }\n",
       "\n",
       "    .dataframe tbody tr th {\n",
       "        vertical-align: top;\n",
       "    }\n",
       "\n",
       "    .dataframe thead th {\n",
       "        text-align: right;\n",
       "    }\n",
       "</style>\n",
       "<table border=\"1\" class=\"dataframe\">\n",
       "  <thead>\n",
       "    <tr style=\"text-align: right;\">\n",
       "      <th></th>\n",
       "      <th>intent</th>\n",
       "      <th>text</th>\n",
       "    </tr>\n",
       "  </thead>\n",
       "  <tbody>\n",
       "    <tr>\n",
       "      <th>0</th>\n",
       "      <td>atis_flight</td>\n",
       "      <td>what flights are available from pittsburgh to...</td>\n",
       "    </tr>\n",
       "    <tr>\n",
       "      <th>1</th>\n",
       "      <td>atis_flight_time</td>\n",
       "      <td>what is the arrival time in san francisco for...</td>\n",
       "    </tr>\n",
       "    <tr>\n",
       "      <th>2</th>\n",
       "      <td>atis_airfare</td>\n",
       "      <td>cheapest airfare from tacoma to orlando</td>\n",
       "    </tr>\n",
       "    <tr>\n",
       "      <th>3</th>\n",
       "      <td>atis_airfare</td>\n",
       "      <td>round trip fares from pittsburgh to philadelp...</td>\n",
       "    </tr>\n",
       "    <tr>\n",
       "      <th>4</th>\n",
       "      <td>atis_flight</td>\n",
       "      <td>i need a flight tomorrow from columbus to min...</td>\n",
       "    </tr>\n",
       "  </tbody>\n",
       "</table>\n",
       "</div>"
      ],
      "text/plain": [
       "             intent                                               text\n",
       "0       atis_flight   what flights are available from pittsburgh to...\n",
       "1  atis_flight_time   what is the arrival time in san francisco for...\n",
       "2      atis_airfare            cheapest airfare from tacoma to orlando\n",
       "3      atis_airfare   round trip fares from pittsburgh to philadelp...\n",
       "4       atis_flight   i need a flight tomorrow from columbus to min..."
      ]
     },
     "execution_count": 40,
     "metadata": {},
     "output_type": "execute_result"
    }
   ],
   "source": [
    "df = pd.read_csv(\"atis_intents_train.csv\")\n",
    "df.columns = [\"intent\",\"text\"]\n",
    "df.head()"
   ]
  },
  {
   "cell_type": "code",
   "execution_count": 41,
   "metadata": {},
   "outputs": [
    {
     "data": {
      "text/plain": [
       "atis_flight            3665\n",
       "atis_airfare            423\n",
       "atis_ground_service     255\n",
       "atis_airline            157\n",
       "atis_abbreviation       147\n",
       "atis_aircraft            81\n",
       "atis_flight_time         54\n",
       "atis_quantity            51\n",
       "Name: intent, dtype: int64"
      ]
     },
     "execution_count": 41,
     "metadata": {},
     "output_type": "execute_result"
    }
   ],
   "source": [
    "df['intent'].value_counts()"
   ]
  },
  {
   "cell_type": "code",
   "execution_count": 42,
   "metadata": {},
   "outputs": [
    {
     "data": {
      "text/html": [
       "<div>\n",
       "<style scoped>\n",
       "    .dataframe tbody tr th:only-of-type {\n",
       "        vertical-align: middle;\n",
       "    }\n",
       "\n",
       "    .dataframe tbody tr th {\n",
       "        vertical-align: top;\n",
       "    }\n",
       "\n",
       "    .dataframe thead th {\n",
       "        text-align: right;\n",
       "    }\n",
       "</style>\n",
       "<table border=\"1\" class=\"dataframe\">\n",
       "  <thead>\n",
       "    <tr style=\"text-align: right;\">\n",
       "      <th></th>\n",
       "      <th>intent</th>\n",
       "      <th>text</th>\n",
       "    </tr>\n",
       "  </thead>\n",
       "  <tbody>\n",
       "    <tr>\n",
       "      <th>0</th>\n",
       "      <td>atis_flight</td>\n",
       "      <td>what flights are available from pittsburgh to...</td>\n",
       "    </tr>\n",
       "    <tr>\n",
       "      <th>1</th>\n",
       "      <td>atis_flight_time</td>\n",
       "      <td>what is the arrival time in san francisco for...</td>\n",
       "    </tr>\n",
       "    <tr>\n",
       "      <th>2</th>\n",
       "      <td>atis_airfare</td>\n",
       "      <td>cheapest airfare from tacoma to orlando</td>\n",
       "    </tr>\n",
       "    <tr>\n",
       "      <th>3</th>\n",
       "      <td>atis_airfare</td>\n",
       "      <td>round trip fares from pittsburgh to philadelp...</td>\n",
       "    </tr>\n",
       "    <tr>\n",
       "      <th>4</th>\n",
       "      <td>atis_flight</td>\n",
       "      <td>i need a flight tomorrow from columbus to min...</td>\n",
       "    </tr>\n",
       "  </tbody>\n",
       "</table>\n",
       "</div>"
      ],
      "text/plain": [
       "             intent                                               text\n",
       "0       atis_flight   what flights are available from pittsburgh to...\n",
       "1  atis_flight_time   what is the arrival time in san francisco for...\n",
       "2      atis_airfare            cheapest airfare from tacoma to orlando\n",
       "3      atis_airfare   round trip fares from pittsburgh to philadelp...\n",
       "4       atis_flight   i need a flight tomorrow from columbus to min..."
      ]
     },
     "execution_count": 42,
     "metadata": {},
     "output_type": "execute_result"
    }
   ],
   "source": [
    "df.head(5)"
   ]
  },
  {
   "cell_type": "code",
   "execution_count": 43,
   "metadata": {},
   "outputs": [
    {
     "data": {
      "text/html": [
       "<div>\n",
       "<style scoped>\n",
       "    .dataframe tbody tr th:only-of-type {\n",
       "        vertical-align: middle;\n",
       "    }\n",
       "\n",
       "    .dataframe tbody tr th {\n",
       "        vertical-align: top;\n",
       "    }\n",
       "\n",
       "    .dataframe thead th {\n",
       "        text-align: right;\n",
       "    }\n",
       "</style>\n",
       "<table border=\"1\" class=\"dataframe\">\n",
       "  <thead>\n",
       "    <tr style=\"text-align: right;\">\n",
       "      <th></th>\n",
       "      <th>intent</th>\n",
       "      <th>text</th>\n",
       "    </tr>\n",
       "  </thead>\n",
       "  <tbody>\n",
       "    <tr>\n",
       "      <th>count</th>\n",
       "      <td>4833</td>\n",
       "      <td>4833</td>\n",
       "    </tr>\n",
       "    <tr>\n",
       "      <th>unique</th>\n",
       "      <td>8</td>\n",
       "      <td>4498</td>\n",
       "    </tr>\n",
       "    <tr>\n",
       "      <th>top</th>\n",
       "      <td>atis_flight</td>\n",
       "      <td>what is fare code h</td>\n",
       "    </tr>\n",
       "    <tr>\n",
       "      <th>freq</th>\n",
       "      <td>3665</td>\n",
       "      <td>8</td>\n",
       "    </tr>\n",
       "  </tbody>\n",
       "</table>\n",
       "</div>"
      ],
      "text/plain": [
       "             intent                  text\n",
       "count          4833                  4833\n",
       "unique            8                  4498\n",
       "top     atis_flight   what is fare code h\n",
       "freq           3665                     8"
      ]
     },
     "execution_count": 43,
     "metadata": {},
     "output_type": "execute_result"
    }
   ],
   "source": [
    "df.describe()"
   ]
  },
  {
   "cell_type": "code",
   "execution_count": 50,
   "metadata": {},
   "outputs": [
    {
     "data": {
      "text/plain": [
       "<Figure size 3600x3600 with 0 Axes>"
      ]
     },
     "metadata": {},
     "output_type": "display_data"
    },
    {
     "data": {
      "image/png": "[encoded data removed]",
      "text/plain": [
       "<Figure size 432x288 with 2 Axes>"
      ]
     },
     "metadata": {
      "needs_background": "light"
     },
     "output_type": "display_data"
    }
   ],
   "source": [
    "#distribution\n",
    "\n",
    "plt.figure(figsize=(50,50))\n",
    "fig, axs = plt.subplots(1,2)\n",
    "plt.subplots_adjust(right = 1.9)\n",
    "grouped = snips_df.groupby(\"intent\").count().reset_index()\n",
    "axs[0].barh(grouped[\"intent\"], grouped[\"text\"])\n",
    "axs[0].set_xlabel(\"count\")\n",
    "axs[1].pie(grouped[\"text\"], labels=grouped[\"intent\"], startangle=60, autopct='%1.1f%%')\n",
    "axs[1].axis('equal')\n",
    "plt.savefig(\"class_dist.jpg\", bbox_inches='tight', dpi = 800)\n",
    "plt.show()"
   ]
  },
  {
   "cell_type": "markdown",
   "metadata": {},
   "source": [
    "# Prepare data for training (spit test and train)"
   ]
  },
  {
   "cell_type": "code",
   "execution_count": 52,
   "metadata": {},
   "outputs": [
    {
     "name": "stdout",
     "output_type": "stream",
     "text": [
      "(3866,) (967,) (3866,) (967,)\n"
     ]
    }
   ],
   "source": [
    "\n",
    "\n",
    "ratio = 0.2\n",
    "Rand_stat = 10\n",
    "np.random.seed(Rand_stat)\n",
    "tf.random.set_seed(Rand_stat)\n",
    "\n",
    "X_train, X_test, y_train, y_test = train_test_split(df[\"text\"], df[\"intent\"], \n",
    "                                                    test_size = ratio, random_state = Rand_stat)\n",
    "\n",
    "print(X_train.shape, X_test.shape, y_train.shape, y_test.shape)"
   ]
  },
  {
   "cell_type": "markdown",
   "metadata": {},
   "source": [
    "## Feature Extraction"
   ]
  },
  {
   "cell_type": "code",
   "execution_count": 53,
   "metadata": {},
   "outputs": [],
   "source": [
    "#Initialize a Tokenizer\n",
    "\n",
    "tokenizer = Tokenizer()\n",
    "tokenizer.fit_on_texts(list(X_train))\n",
    "\n",
    "#Convert text to sequences\n",
    "X_seq = tokenizer.texts_to_sequences(list(X_train))\n",
    "X_test_seq = tokenizer.texts_to_sequences(list(X_test))"
   ]
  },
  {
   "cell_type": "code",
   "execution_count": 55,
   "metadata": {},
   "outputs": [
    {
     "name": "stdout",
     "output_type": "stream",
     "text": [
      "42\n",
      "45\n",
      "45\n"
     ]
    }
   ],
   "source": [
    "X_seq_len = [len(x) for x in X_seq]\n",
    "X_max_seq_len = max(X_seq_len)\n",
    "print(X_max_seq_len)\n",
    "\n",
    "X_test_seq_len = [len(x) for x in X_test_seq]\n",
    "X_max_test_seq_len = max(X_test_seq_len)\n",
    "print(X_max_test_seq_len)\n",
    "\n",
    "Max_seq_len = max(X_max_seq_len, X_max_test_seq_len)\n",
    "print(Max_seq_len)"
   ]
  },
  {
   "cell_type": "code",
   "execution_count": 56,
   "metadata": {},
   "outputs": [
    {
     "name": "stdout",
     "output_type": "stream",
     "text": [
      "(3866, 45) (967, 45)\n"
     ]
    }
   ],
   "source": [
    "\n",
    "\n",
    "#pad the sequences\n",
    "X = pad_sequences(X_seq, maxlen = Max_seq_len, padding = 'post')\n",
    "X_test = pad_sequences(X_test_seq, maxlen = Max_seq_len, padding = 'post')\n",
    "\n",
    "print(X.shape, X_test.shape)"
   ]
  },
  {
   "cell_type": "code",
   "execution_count": 57,
   "metadata": {},
   "outputs": [
    {
     "name": "stdout",
     "output_type": "stream",
     "text": [
      "(3866, 8) (967, 8)\n"
     ]
    }
   ],
   "source": [
    "#Convert labels to one-hot vectors\n",
    "\n",
    "y = y_train.to_numpy()\n",
    "encoder = LabelEncoder()\n",
    "encoder.fit(y)\n",
    "\n",
    "encoded_y = encoder.transform(y)\n",
    "y_train_encoded = utils.to_categorical(encoded_y)\n",
    "\n",
    "y_test = y_test.to_numpy()\n",
    "encoded_y_test = encoder.transform(y_test)\n",
    "y_test_encoded = utils.to_categorical(encoded_y_test)\n",
    "\n",
    "print(y_train_encoded.shape, y_test_encoded.shape)"
   ]
  },
  {
   "cell_type": "markdown",
   "metadata": {},
   "source": [
    "# Model Training (LSTM)"
   ]
  },
  {
   "cell_type": "code",
   "execution_count": 60,
   "metadata": {},
   "outputs": [
    {
     "name": "stdout",
     "output_type": "stream",
     "text": [
      "Model: \"sequential_3\"\n",
      "_________________________________________________________________\n",
      " Layer (type)                Output Shape              Param #   \n",
      "=================================================================\n",
      " embedding_3 (Embedding)     (None, 45, 16)            13184     \n",
      "                                                                 \n",
      " lstm_3 (LSTM)               (None, 16)                2112      \n",
      "                                                                 \n",
      " dense_3 (Dense)             (None, 8)                 136       \n",
      "                                                                 \n",
      "=================================================================\n",
      "Total params: 15,432\n",
      "Trainable params: 15,432\n",
      "Non-trainable params: 0\n",
      "_________________________________________________________________\n"
     ]
    }
   ],
   "source": [
    "VAL_SPLIT = 0.1\n",
    "BATCH_SIZE = 32\n",
    "EPOCHS = 10\n",
    "EMBEDDING_DIM = 16\n",
    "NUM_UNITS = 16\n",
    "NUM_CLASSES = len(df['intent'].unique())\n",
    "VOCAB_SIZE = len(tokenizer.word_index) + 1\n",
    "lstm_model = Sequential()\n",
    "lstm_model.add(Embedding(input_dim = VOCAB_SIZE, output_dim = EMBEDDING_DIM, input_length = MAX_SEQ_LEN, mask_zero = True))\n",
    "lstm_model.add(LSTM(NUM_UNITS, activation='relu'))\n",
    "lstm_model.add(Dense(NUM_CLASSES, activation='softmax'))\n",
    "\n",
    "lstm_model.compile(optimizer='adam', loss='categorical_crossentropy', metrics=[Precision(), Recall(), 'accuracy'])\n",
    "\n",
    "lstm_model.summary()"
   ]
  },
  {
   "cell_type": "code",
   "execution_count": 62,
   "metadata": {},
   "outputs": [
    {
     "name": "stdout",
     "output_type": "stream",
     "text": [
      "Epoch 1/10\n",
      "109/109 [==============================] - 4s 40ms/step - loss: 0.3065 - precision_3: 0.9674 - recall_3: 0.8370 - accuracy: 0.8962 - val_loss: 0.3278 - val_precision_3: 0.9566 - val_recall_3: 0.8553 - val_accuracy: 0.8889\n",
      "Epoch 2/10\n",
      "109/109 [==============================] - 4s 39ms/step - loss: 0.2881 - precision_3: 0.9699 - recall_3: 0.8511 - accuracy: 0.9037 - val_loss: 0.3218 - val_precision_3: 0.9540 - val_recall_3: 0.8579 - val_accuracy: 0.8941\n",
      "Epoch 3/10\n",
      "109/109 [==============================] - 4s 40ms/step - loss: 0.2714 - precision_3: 0.9706 - recall_3: 0.8620 - accuracy: 0.9126 - val_loss: 0.3131 - val_precision_3: 0.9542 - val_recall_3: 0.8605 - val_accuracy: 0.8966\n",
      "Epoch 4/10\n",
      "109/109 [==============================] - 4s 40ms/step - loss: 0.2564 - precision_3: 0.9727 - recall_3: 0.8704 - accuracy: 0.9201 - val_loss: 0.3054 - val_precision_3: 0.9574 - val_recall_3: 0.8708 - val_accuracy: 0.9018\n",
      "Epoch 5/10\n",
      "109/109 [==============================] - 4s 39ms/step - loss: 0.2433 - precision_3: 0.9748 - recall_3: 0.8784 - accuracy: 0.9258 - val_loss: 0.2995 - val_precision_3: 0.9548 - val_recall_3: 0.8734 - val_accuracy: 0.9018\n",
      "Epoch 6/10\n",
      "109/109 [==============================] - 4s 38ms/step - loss: 0.2318 - precision_3: 0.9784 - recall_3: 0.8839 - accuracy: 0.9273 - val_loss: 0.2971 - val_precision_3: 0.9547 - val_recall_3: 0.8708 - val_accuracy: 0.9044\n",
      "Epoch 7/10\n",
      "109/109 [==============================] - 4s 40ms/step - loss: 0.2201 - precision_3: 0.9785 - recall_3: 0.8908 - accuracy: 0.9299 - val_loss: 0.2916 - val_precision_3: 0.9548 - val_recall_3: 0.8734 - val_accuracy: 0.9070\n",
      "Epoch 8/10\n",
      "109/109 [==============================] - 4s 39ms/step - loss: 0.2090 - precision_3: 0.9790 - recall_3: 0.8988 - accuracy: 0.9322 - val_loss: 0.2924 - val_precision_3: 0.9603 - val_recall_3: 0.8760 - val_accuracy: 0.9121\n",
      "Epoch 9/10\n",
      "109/109 [==============================] - 4s 38ms/step - loss: 0.1997 - precision_3: 0.9794 - recall_3: 0.9017 - accuracy: 0.9342 - val_loss: 0.2818 - val_precision_3: 0.9603 - val_recall_3: 0.8760 - val_accuracy: 0.9147\n",
      "Epoch 10/10\n",
      "109/109 [==============================] - 4s 38ms/step - loss: 0.1896 - precision_3: 0.9767 - recall_3: 0.9051 - accuracy: 0.9365 - val_loss: 0.2719 - val_precision_3: 0.9577 - val_recall_3: 0.8786 - val_accuracy: 0.9147\n"
     ]
    }
   ],
   "source": [
    "lstm_history = lstm_model.fit(X, y_train_encoded, batch_size = BATCH_SIZE, epochs = EPOCHS, verbose = 1, validation_split = VAL_SPLIT)\n"
   ]
  },
  {
   "cell_type": "markdown",
   "metadata": {},
   "source": [
    "\n",
    "# Plot learning curves"
   ]
  },
  {
   "cell_type": "code",
   "execution_count": 67,
   "metadata": {},
   "outputs": [
    {
     "data": {
      "image/png": "[encoded data removed]",
      "text/plain": [
       "<Figure size 432x288 with 1 Axes>"
      ]
     },
     "metadata": {
      "needs_background": "light"
     },
     "output_type": "display_data"
    }
   ],
   "source": [
    "plt.title('Learning Curves')\n",
    "plt.xlabel('epoch')\n",
    "plt.ylabel('cross Entropy')\n",
    "plt.plot(lstm_history.history['loss'], label='train')\n",
    "plt.plot(lstm_history.history['val_loss'], label='val')\n",
    "plt.legend()\n",
    "plt.savefig(\"learning_curve.jpg\", bbox_inches='tight', dpi = 300)\n",
    "plt.show()"
   ]
  },
  {
   "cell_type": "markdown",
   "metadata": {},
   "source": [
    "### Predict on test"
   ]
  },
  {
   "cell_type": "code",
   "execution_count": 64,
   "metadata": {},
   "outputs": [
    {
     "name": "stdout",
     "output_type": "stream",
     "text": [
      "31/31 [==============================] - 0s 11ms/step - loss: 1.3309 - precision_3: 0.9446 - recall_3: 0.8821 - accuracy: 0.9100\n"
     ]
    }
   ],
   "source": [
    "#Evaluate the model performance on test data\n",
    "lstm_score = lstm_model.evaluate(X_test, y_test_encoded, batch_size = BATCH_SIZE, verbose = 1)\n"
   ]
  },
  {
   "cell_type": "markdown",
   "metadata": {},
   "source": [
    "### Classification metrics"
   ]
  },
  {
   "cell_type": "code",
   "execution_count": 65,
   "metadata": {},
   "outputs": [
    {
     "name": "stdout",
     "output_type": "stream",
     "text": [
      "                     precision    recall  f1-score   support\n",
      "\n",
      "  atis_abbreviation       0.87      0.96      0.91        27\n",
      "      atis_aircraft       0.54      0.58      0.56        12\n",
      "       atis_airfare       0.64      0.88      0.74        74\n",
      "       atis_airline       0.00      0.00      0.00        41\n",
      "        atis_flight       0.95      0.99      0.97       743\n",
      "   atis_flight_time       0.00      0.00      0.00        15\n",
      "atis_ground_service       0.96      0.96      0.96        48\n",
      "      atis_quantity       1.00      0.14      0.25         7\n",
      "\n",
      "           accuracy                           0.91       967\n",
      "          macro avg       0.62      0.56      0.55       967\n",
      "       weighted avg       0.86      0.91      0.88       967\n",
      "\n"
     ]
    },
    {
     "name": "stderr",
     "output_type": "stream",
     "text": [
      "C:\\Users\\Shristi\\AppData\\Local\\Programs\\Python\\Python310\\lib\\site-packages\\sklearn\\metrics\\_classification.py:1318: UndefinedMetricWarning: Precision and F-score are ill-defined and being set to 0.0 in labels with no predicted samples. Use `zero_division` parameter to control this behavior.\n",
      "  _warn_prf(average, modifier, msg_start, len(result))\n",
      "C:\\Users\\Shristi\\AppData\\Local\\Programs\\Python\\Python310\\lib\\site-packages\\sklearn\\metrics\\_classification.py:1318: UndefinedMetricWarning: Precision and F-score are ill-defined and being set to 0.0 in labels with no predicted samples. Use `zero_division` parameter to control this behavior.\n",
      "  _warn_prf(average, modifier, msg_start, len(result))\n",
      "C:\\Users\\Shristi\\AppData\\Local\\Programs\\Python\\Python310\\lib\\site-packages\\sklearn\\metrics\\_classification.py:1318: UndefinedMetricWarning: Precision and F-score are ill-defined and being set to 0.0 in labels with no predicted samples. Use `zero_division` parameter to control this behavior.\n",
      "  _warn_prf(average, modifier, msg_start, len(result))\n"
     ]
    }
   ],
   "source": [
    "y_pred_labels_lstm = [encoder.classes_[x] for x in np.argmax(lstm_model.predict(X_test), axis=-1)]\n",
    "print(metrics.classification_report(y_test, y_pred_labels_lstm))"
   ]
  },
  {
   "cell_type": "markdown",
   "metadata": {},
   "source": [
    "# Prediction"
   ]
  },
  {
   "cell_type": "code",
   "execution_count": 66,
   "metadata": {},
   "outputs": [
    {
     "name": "stdout",
     "output_type": "stream",
     "text": [
      "atis_flight\n"
     ]
    }
   ],
   "source": [
    "sentence = \"flights from burbank to st. louis on monday\"\n",
    "input_seq = tokenizer.texts_to_sequences([sentence])\n",
    "input_features = pad_sequences(input_seq, maxlen = MAX_SEQ_LEN, padding = 'post')\n",
    "probs = lstm_model.predict(input_features)\n",
    "predicted_y = probs.argmax(axis=-1)\n",
    "print(encoder.classes_[predicted_y][0])"
   ]
  }
 ],
 "metadata": {
  "kernelspec": {
   "display_name": "Python 3 (ipykernel)",
   "language": "python",
   "name": "python3"
  },
  "language_info": {
   "codemirror_mode": {
    "name": "ipython",
    "version": 3
   },
   "file_extension": ".py",
   "mimetype": "text/x-python",
   "name": "python",
   "nbconvert_exporter": "python",
   "pygments_lexer": "ipython3",
   "version": "3.10.5"
  }
 },
 "nbformat": 4,
 "nbformat_minor": 4
}
